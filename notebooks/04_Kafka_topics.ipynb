{
 "cells": [
  {
   "cell_type": "code",
   "execution_count": 1,
   "id": "0f4bdf4d",
   "metadata": {},
   "outputs": [
    {
     "name": "stdout",
     "output_type": "stream",
     "text": [
      "Collecting kafka-python\n",
      "  Downloading kafka_python-2.2.15-py2.py3-none-any.whl.metadata (10.0 kB)\n",
      "Downloading kafka_python-2.2.15-py2.py3-none-any.whl (309 kB)\n",
      "\u001b[2K   \u001b[90m━━━━━━━━━━━━━━━━━━━━━━━━━━━━━━━━━━━━━━━━\u001b[0m \u001b[32m309.8/309.8 kB\u001b[0m \u001b[31m1.3 MB/s\u001b[0m eta \u001b[36m0:00:00\u001b[0ma \u001b[36m0:00:01\u001b[0mm\n",
      "\u001b[?25hInstalling collected packages: kafka-python\n",
      "Successfully installed kafka-python-2.2.15\n"
     ]
    }
   ],
   "source": [
    "!pip install kafka-python"
   ]
  },
  {
   "cell_type": "code",
   "execution_count": 2,
   "id": "ac7fa879",
   "metadata": {},
   "outputs": [],
   "source": [
    "from kafka.admin import KafkaAdminClient,NewTopic # type: ignore\n",
    "\n",
    "# list_of_kafka_topics is a function that prints list of kafka topics exists  \n",
    "def list_of_kafka_topics(admin_client):\n",
    "    topics = admin_client.list_topics() \n",
    "    print(\"list of topics:\")\n",
    "    for topic in topics:\n",
    "        print(topic)\n",
    "\n",
    "#create_kafka_topics is a function that creates a list of kafka topics\n",
    "#list_of_topics_names is a list that contains names of kafka topics that we need to create \n",
    "def create_kafka_topics(list_of_topics_names):\n",
    "    try:\n",
    "        admin_client = KafkaAdminClient(bootstrap_servers=\"kafka_v2:9092\", client_id='GH')\n",
    "        topic_list = []\n",
    "        for topic_name in list_of_topics_names:\n",
    "            new_topic = NewTopic(name = topic_name, num_partitions= 1, replication_factor= 1)\n",
    "            topic_list.append(new_topic)\n",
    "        admin_client.create_topics(new_topics=topic_list)\n",
    "        print(\"{} topic has been created succesfuly\".format(topic_name))\n",
    "        list_of_kafka_topics(admin_client)\n",
    "    except:\n",
    "        print(\"{} topic already excist\".format(topic_name)) \n",
    "        list_of_kafka_topics(admin_client)"
   ]
  },
  {
   "cell_type": "code",
   "execution_count": 3,
   "id": "8a70cc83",
   "metadata": {},
   "outputs": [
    {
     "name": "stdout",
     "output_type": "stream",
     "text": [
      "sensors_data topic has been created succesfuly\n",
      "list of topics:\n",
      "sensors_data\n"
     ]
    }
   ],
   "source": [
    "# create kafka topics \n",
    "list_of_topics = [\"sensors_data\"]\n",
    "create_kafka_topics(list_of_topics)"
   ]
  },
  {
   "cell_type": "code",
   "execution_count": null,
   "id": "2232c37f-e467-4387-b12f-66c2897fccfd",
   "metadata": {},
   "outputs": [],
   "source": []
  }
 ],
 "metadata": {
  "kernelspec": {
   "display_name": "Python 3 (ipykernel)",
   "language": "python",
   "name": "python3"
  },
  "language_info": {
   "codemirror_mode": {
    "name": "ipython",
    "version": 3
   },
   "file_extension": ".py",
   "mimetype": "text/x-python",
   "name": "python",
   "nbconvert_exporter": "python",
   "pygments_lexer": "ipython3",
   "version": "3.11.6"
  }
 },
 "nbformat": 4,
 "nbformat_minor": 5
}
