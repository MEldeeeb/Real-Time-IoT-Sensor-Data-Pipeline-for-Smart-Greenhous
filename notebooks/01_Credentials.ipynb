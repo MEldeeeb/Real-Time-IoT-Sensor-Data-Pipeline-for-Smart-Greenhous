{
 "cells": [
  {
   "cell_type": "code",
   "execution_count": null,
   "id": "bd6b7724",
   "metadata": {},
   "outputs": [],
   "source": [
    "import os\n",
    "#----------------------------------------------------------------\n",
    "# PostgerSQL credentials \n",
    "os.environ['Password_GH_Sensors_DWH'] = \"spark\"\n",
    "os.environ['db_port'] = \"5432\"\n",
    "os.environ['user_name'] = \"spark\"\n",
    "os.environ['db_name'] = \"sparkdb\"\n",
    "os.environ['db_host_name']= \"172.30.1.12\"\n",
    "#----------------------------------------------------------------\n",
    "# Email credentials\n",
    "os.environ['sender_email']= \"*******************\"\n",
    "os.environ['password']= \"*****************\"\n",
    "os.environ['reciver_email']= \"mohamedeldeeeb2016@gmail.com\"\n",
    "#----------------------------------------------------------------\n",
    "os.environ['snowflake_pass'] = \"****************\""
   ]
  }
 ],
 "metadata": {
  "kernelspec": {
   "display_name": "Python 3 (ipykernel)",
   "language": "python",
   "name": "python3"
  },
  "language_info": {
   "codemirror_mode": {
    "name": "ipython",
    "version": 3
   },
   "file_extension": ".py",
   "mimetype": "text/x-python",
   "name": "python",
   "nbconvert_exporter": "python",
   "pygments_lexer": "ipython3",
   "version": "3.11.6"
  }
 },
 "nbformat": 4,
 "nbformat_minor": 5
}
