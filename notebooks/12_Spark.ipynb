{
 "cells": [
  {
   "cell_type": "code",
   "execution_count": 2,
   "id": "57870988",
   "metadata": {},
   "outputs": [
    {
     "name": "stdout",
     "output_type": "stream",
     "text": [
      "Requirement already satisfied: hdfs in /opt/conda/lib/python3.11/site-packages (2.7.3)\n",
      "Requirement already satisfied: docopt in /opt/conda/lib/python3.11/site-packages (from hdfs) (0.6.2)\n",
      "Requirement already satisfied: requests>=2.7.0 in /opt/conda/lib/python3.11/site-packages (from hdfs) (2.31.0)\n",
      "Requirement already satisfied: six>=1.9.0 in /opt/conda/lib/python3.11/site-packages (from hdfs) (1.16.0)\n",
      "Requirement already satisfied: charset-normalizer<4,>=2 in /opt/conda/lib/python3.11/site-packages (from requests>=2.7.0->hdfs) (3.3.0)\n",
      "Requirement already satisfied: idna<4,>=2.5 in /opt/conda/lib/python3.11/site-packages (from requests>=2.7.0->hdfs) (3.4)\n",
      "Requirement already satisfied: urllib3<3,>=1.21.1 in /opt/conda/lib/python3.11/site-packages (from requests>=2.7.0->hdfs) (2.0.7)\n",
      "Requirement already satisfied: certifi>=2017.4.17 in /opt/conda/lib/python3.11/site-packages (from requests>=2.7.0->hdfs) (2023.7.22)\n",
      "Requirement already satisfied: psycopg2-binary in /opt/conda/lib/python3.11/site-packages (2.9.10)\n"
     ]
    }
   ],
   "source": [
    "%run 03_HDFS_Data_lake.ipynb\n",
    "%run 05_utils.ipynb\n",
    "%run 11_Email_Notification_and_Report.ipynb\n",
    "\n",
    "import datetime\n",
    "from datetime import datetime\n",
    "from pyspark.sql import SparkSession\n",
    "from pyspark.sql.functions import avg, min, max, round\n",
    "# from pyspark import SparkConf, SparkContext\n",
    "import csv\n",
    "import os "
   ]
  },
  {
   "cell_type": "code",
   "execution_count": 3,
   "id": "d6283e50",
   "metadata": {},
   "outputs": [],
   "source": [
    "spark = SparkSession.builder.appName(\"GreenhouseSensorData\").getOrCreate()"
   ]
  },
  {
   "cell_type": "code",
   "execution_count": 3,
   "id": "ee1e50bd",
   "metadata": {},
   "outputs": [
    {
     "name": "stdout",
     "output_type": "stream",
     "text": [
      "+---------+--------------------+-------------+------+--------+\n",
      "|sensor_id|           timestamp|  sensor_type| value|location|\n",
      "+---------+--------------------+-------------+------+--------+\n",
      "|    CO2_1|2025-06-25 18:48:...|          CO2| 672.0|   GH_1 |\n",
      "|     PH_1|2025-06-25 18:48:...|      Soil_pH|   7.0|   GH_1 |\n",
      "|     SM_1|2025-06-25 18:48:...|Soil_Moisture|  72.0|   GH_1 |\n",
      "|     SM_1|2025-06-25 18:48:...|Soil_Moisture|  96.9|   GH_1 |\n",
      "|    CO2_2|2025-06-25 18:48:...|          CO2|1467.0|   GH_2 |\n",
      "|      T_2|2025-06-25 18:48:...|  Temperature|  32.9|   GH_2 |\n",
      "|      H_3|2025-06-25 18:48:...|     Humidity|  22.8|   GH_3 |\n",
      "|      H_3|2025-06-25 18:48:...|     Humidity|  78.3|   GH_3 |\n",
      "|      L_3|2025-06-25 18:48:...|        Light|1200.0|   GH_3 |\n",
      "|     SM_3|2025-06-25 18:48:...|Soil_Moisture|  79.2|   GH_3 |\n",
      "|     SM_3|2025-06-25 18:48:...|Soil_Moisture|  81.8|   GH_3 |\n",
      "|      T_3|2025-06-25 18:48:...|  Temperature| 27.06|   GH_3 |\n",
      "+---------+--------------------+-------------+------+--------+\n",
      "\n"
     ]
    }
   ],
   "source": [
    "now = datetime.now()\n",
    "\n",
    "hdfs_path = \"hdfs://localhost:9000/Sensors_DL/{}/{}/day_{}.csv\".format(now.year, now.month, now.day)\n",
    "csv_f = spark.read.csv(hdfs_path, header=False , inferSchema=True)\n",
    "column_names = [\"sensor_id\",\"timestamp\", \"sensor_type\", \"value\", \"location\"]\n",
    "df = csv_f.toDF(*column_names)\n",
    "df.sort(\"location\",\"sensor_id\").show()"
   ]
  },
  {
   "cell_type": "code",
   "execution_count": 4,
   "id": "1562585c",
   "metadata": {},
   "outputs": [
    {
     "name": "stdout",
     "output_type": "stream",
     "text": [
      "+---------+--------+-------------+---------+---------+---------+\n",
      "|sensor_id|location|  sensor_type|avg_value|min_value|max_value|\n",
      "+---------+--------+-------------+---------+---------+---------+\n",
      "|    CO2_1|   GH_1 |          CO2|    672.0|    672.0|    672.0|\n",
      "|    CO2_2|   GH_2 |          CO2|   1467.0|   1467.0|   1467.0|\n",
      "|      H_3|   GH_3 |     Humidity|    50.55|     22.8|     78.3|\n",
      "|      L_3|   GH_3 |        Light|   1200.0|   1200.0|   1200.0|\n",
      "|     PH_1|   GH_1 |      Soil_pH|      7.0|      7.0|      7.0|\n",
      "|     SM_1|   GH_1 |Soil_Moisture|    84.45|     72.0|     96.9|\n",
      "|     SM_3|   GH_3 |Soil_Moisture|     80.5|     79.2|     81.8|\n",
      "|      T_2|   GH_2 |  Temperature|     32.9|     32.9|     32.9|\n",
      "|      T_3|   GH_3 |  Temperature|    27.06|    27.06|    27.06|\n",
      "+---------+--------+-------------+---------+---------+---------+\n",
      "\n"
     ]
    }
   ],
   "source": [
    "avg_readings = df.groupBy(\"sensor_id\",\"location\",\"sensor_type\")\\\n",
    ".agg(\n",
    "    round(avg(\"value\"),2).alias(\"avg_value\"),\n",
    "    min(\"value\").alias(\"min_value\"),\n",
    "    max(\"value\").alias(\"max_value\")\n",
    ").sort(\"sensor_id\",\"location\",\"sensor_type\")\n",
    "avg_readings.show()"
   ]
  },
  {
   "cell_type": "code",
   "execution_count": 5,
   "id": "7a855e4e",
   "metadata": {},
   "outputs": [],
   "source": [
    "report = \"\"\n",
    "counter = 0\n",
    "for row in avg_readings.toLocalIterator():\n",
    "    counter = counter + 1\n",
    "    line = f\"{counter}) The Average {row.sensor_type} level in {row.location}during the day is ----> {row.avg_value}\\n\" \n",
    "    report = report + line\n",
    "    if counter % 3 == 0:\n",
    "         report = report + \"--\"*40 +\"|\\n\"\n",
    "     "
   ]
  },
  {
   "cell_type": "code",
   "execution_count": 6,
   "id": "2eca4c3f",
   "metadata": {},
   "outputs": [
    {
     "name": "stdout",
     "output_type": "stream",
     "text": [
      "This is your daily repory for 2025-6-25\n",
      "1) The Average CO2 level in GH_1 during the day is ----> 672.0\n",
      "2) The Average CO2 level in GH_2 during the day is ----> 1467.0\n",
      "3) The Average Humidity level in GH_3 during the day is ----> 50.55\n",
      "--------------------------------------------------------------------------------|\n",
      "4) The Average Light level in GH_3 during the day is ----> 1200.0\n",
      "5) The Average Soil_pH level in GH_1 during the day is ----> 7.0\n",
      "6) The Average Soil_Moisture level in GH_1 during the day is ----> 84.45\n",
      "--------------------------------------------------------------------------------|\n",
      "7) The Average Soil_Moisture level in GH_3 during the day is ----> 80.5\n",
      "8) The Average Temperature level in GH_2 during the day is ----> 32.9\n",
      "9) The Average Temperature level in GH_3 during the day is ----> 27.06\n",
      "--------------------------------------------------------------------------------|\n",
      "\n"
     ]
    }
   ],
   "source": [
    "print(f\"This is your daily repory for {now.year}-{now.month}-{now.day}\")\n",
    "print(report)"
   ]
  },
  {
   "cell_type": "code",
   "execution_count": 7,
   "id": "807c5295",
   "metadata": {},
   "outputs": [],
   "source": [
    "\n",
    "subject = f\"\"\" Greenhouse Performance Report - [{now.year}-{now.month}-{now.day}] \"\"\"\n",
    "\n",
    "body = f\"\"\"\n",
    "Dear [Recipient Name/Team],\n",
    "\n",
    "This email provides an automated report on the performance of the greenhouse system .\n",
    "\n",
    "Key Performance Indicators (KPIs):\n",
    "\n",
    "{report}\n",
    "\n",
    "\n",
    "This report is automatically generated by the greenhouse monitoring system. For any questions or concerns, please contact [Contact Person/Support Team].\n",
    "\n",
    "Sincerely,\n",
    "\n",
    "[Greenhouse Monitoring System]\"\"\""
   ]
  },
  {
   "cell_type": "code",
   "execution_count": 8,
   "id": "fef34b4d",
   "metadata": {},
   "outputs": [],
   "source": [
    "send_email(sender_email, password, reciver_email, subject, body)"
   ]
  },
  {
   "cell_type": "code",
   "execution_count": 9,
   "id": "d3a6bee8",
   "metadata": {},
   "outputs": [],
   "source": [
    "spark.stop()"
   ]
  }
 ],
 "metadata": {
  "kernelspec": {
   "display_name": "Python 3 (ipykernel)",
   "language": "python",
   "name": "python3"
  },
  "language_info": {
   "codemirror_mode": {
    "name": "ipython",
    "version": 3
   },
   "file_extension": ".py",
   "mimetype": "text/x-python",
   "name": "python",
   "nbconvert_exporter": "python",
   "pygments_lexer": "ipython3",
   "version": "3.11.6"
  }
 },
 "nbformat": 4,
 "nbformat_minor": 5
}
