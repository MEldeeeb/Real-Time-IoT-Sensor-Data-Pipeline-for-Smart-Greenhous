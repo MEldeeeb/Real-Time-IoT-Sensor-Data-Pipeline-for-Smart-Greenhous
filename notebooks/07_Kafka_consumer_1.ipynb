{
 "cells": [
  {
   "cell_type": "code",
   "execution_count": 1,
   "id": "106e4d0f",
   "metadata": {},
   "outputs": [
    {
     "name": "stdout",
     "output_type": "stream",
     "text": [
      "Requirement already satisfied: psycopg2-binary in /opt/conda/lib/python3.11/site-packages (2.9.10)\n"
     ]
    }
   ],
   "source": [
    "%run 05_utils.ipynb\n",
    "import ast\n",
    "import datetime\n",
    "from datetime import datetime\n",
    "from kafka import KafkaConsumer # type: ignore"
   ]
  },
  {
   "cell_type": "code",
   "execution_count": 4,
   "id": "9e5c90c2",
   "metadata": {},
   "outputs": [
    {
     "name": "stdout",
     "output_type": "stream",
     "text": [
      "Connecting to Billing_DWH..... \n",
      "Connection to PostgerSQL is done successfuly\n",
      "conn and cur are created and successfuly returned\n"
     ]
    }
   ],
   "source": [
    "# create kafka consumer \n",
    "#connect to GH_Sensors_DWH\n",
    "consumer = KafkaConsumer(\"sensors_data\",bootstrap_servers='kafka_v2:9092')\n",
    "conn,cur = connect_to_db(\"sparkdb\") # type: ignore"
   ]
  },
  {
   "cell_type": "code",
   "execution_count": 5,
   "id": "63e1cb02",
   "metadata": {},
   "outputs": [
    {
     "name": "stdout",
     "output_type": "stream",
     "text": [
      "ConsumerRecord(topic='sensors_data', partition=0, leader_epoch=0, offset=71, timestamp=1753102791327, timestamp_type=0, key=None, value=b\"{'sensor_id': 'T_2', 'timestamp': '2025-07-21 12:59:51.327101', 'sensor_type': 'Temperature', 'value': 33.27, 'location': 'GH_2'}\", headers=[], checksum=None, serialized_key_size=-1, serialized_value_size=129, serialized_header_size=-1)\n",
      "ConsumerRecord(topic='sensors_data', partition=0, leader_epoch=0, offset=72, timestamp=1753102794328, timestamp_type=0, key=None, value=b\"{'sensor_id': 'PH_3', 'timestamp': '2025-07-21 12:59:54.327874', 'sensor_type': 'Soil_pH', 'value': 7.9, 'location': 'GH_3'}\", headers=[], checksum=None, serialized_key_size=-1, serialized_value_size=124, serialized_header_size=-1)\n",
      "ConsumerRecord(topic='sensors_data', partition=0, leader_epoch=0, offset=73, timestamp=1753102797328, timestamp_type=0, key=None, value=b\"{'sensor_id': 'SM_3', 'timestamp': '2025-07-21 12:59:57.328598', 'sensor_type': 'Soil_Moisture', 'value': 58.5, 'location': 'GH_3'}\", headers=[], checksum=None, serialized_key_size=-1, serialized_value_size=131, serialized_header_size=-1)\n",
      "ConsumerRecord(topic='sensors_data', partition=0, leader_epoch=0, offset=74, timestamp=1753102800329, timestamp_type=0, key=None, value=b\"{'sensor_id': 'PH_3', 'timestamp': '2025-07-21 13:00:00.329099', 'sensor_type': 'Soil_pH', 'value': 4.7, 'location': 'GH_3'}\", headers=[], checksum=None, serialized_key_size=-1, serialized_value_size=124, serialized_header_size=-1)\n",
      "ConsumerRecord(topic='sensors_data', partition=0, leader_epoch=0, offset=75, timestamp=1753102803328, timestamp_type=0, key=None, value=b\"{'sensor_id': 'H_1', 'timestamp': '2025-07-21 13:00:03.328232', 'sensor_type': 'Humidity', 'value': 52.1, 'location': 'GH_1'}\", headers=[], checksum=None, serialized_key_size=-1, serialized_value_size=125, serialized_header_size=-1)\n",
      "ConsumerRecord(topic='sensors_data', partition=0, leader_epoch=0, offset=76, timestamp=1753102806329, timestamp_type=0, key=None, value=b\"{'sensor_id': 'SM_1', 'timestamp': '2025-07-21 13:00:06.328977', 'sensor_type': 'Soil_Moisture', 'value': 77.3, 'location': 'GH_1'}\", headers=[], checksum=None, serialized_key_size=-1, serialized_value_size=131, serialized_header_size=-1)\n",
      "ConsumerRecord(topic='sensors_data', partition=0, leader_epoch=0, offset=77, timestamp=1753102809329, timestamp_type=0, key=None, value=b\"{'sensor_id': 'PH_2', 'timestamp': '2025-07-21 13:00:09.329529', 'sensor_type': 'Soil_pH', 'value': 6.4, 'location': 'GH_2'}\", headers=[], checksum=None, serialized_key_size=-1, serialized_value_size=124, serialized_header_size=-1)\n",
      "ConsumerRecord(topic='sensors_data', partition=0, leader_epoch=0, offset=78, timestamp=1753102812330, timestamp_type=0, key=None, value=b\"{'sensor_id': 'L_1', 'timestamp': '2025-07-21 13:00:12.330098', 'sensor_type': 'Light', 'value': 1229, 'location': 'GH_1'}\", headers=[], checksum=None, serialized_key_size=-1, serialized_value_size=122, serialized_header_size=-1)\n",
      "ConsumerRecord(topic='sensors_data', partition=0, leader_epoch=0, offset=79, timestamp=1753102815331, timestamp_type=0, key=None, value=b\"{'sensor_id': 'CO2_3', 'timestamp': '2025-07-21 13:00:15.331048', 'sensor_type': 'CO2', 'value': 922, 'location': 'GH_3'}\", headers=[], checksum=None, serialized_key_size=-1, serialized_value_size=121, serialized_header_size=-1)\n",
      "ConsumerRecord(topic='sensors_data', partition=0, leader_epoch=0, offset=80, timestamp=1753102818331, timestamp_type=0, key=None, value=b\"{'sensor_id': 'L_3', 'timestamp': '2025-07-21 13:00:18.331593', 'sensor_type': 'Light', 'value': 1376, 'location': 'GH_3'}\", headers=[], checksum=None, serialized_key_size=-1, serialized_value_size=122, serialized_header_size=-1)\n",
      "ConsumerRecord(topic='sensors_data', partition=0, leader_epoch=0, offset=81, timestamp=1753102821332, timestamp_type=0, key=None, value=b\"{'sensor_id': 'PH_1', 'timestamp': '2025-07-21 13:00:21.332329', 'sensor_type': 'Soil_pH', 'value': 5.3, 'location': 'GH_1'}\", headers=[], checksum=None, serialized_key_size=-1, serialized_value_size=124, serialized_header_size=-1)\n",
      "ConsumerRecord(topic='sensors_data', partition=0, leader_epoch=0, offset=82, timestamp=1753102824333, timestamp_type=0, key=None, value=b\"{'sensor_id': 'CO2_1', 'timestamp': '2025-07-21 13:00:24.332916', 'sensor_type': 'CO2', 'value': 419, 'location': 'GH_1'}\", headers=[], checksum=None, serialized_key_size=-1, serialized_value_size=121, serialized_header_size=-1)\n",
      "ConsumerRecord(topic='sensors_data', partition=0, leader_epoch=0, offset=83, timestamp=1753102827333, timestamp_type=0, key=None, value=b\"{'sensor_id': 'SM_2', 'timestamp': '2025-07-21 13:00:27.333689', 'sensor_type': 'Soil_Moisture', 'value': 60.5, 'location': 'GH_2'}\", headers=[], checksum=None, serialized_key_size=-1, serialized_value_size=131, serialized_header_size=-1)\n",
      "ConsumerRecord(topic='sensors_data', partition=0, leader_epoch=0, offset=84, timestamp=1753102830335, timestamp_type=0, key=None, value=b\"{'sensor_id': 'SM_2', 'timestamp': '2025-07-21 13:00:30.334885', 'sensor_type': 'Soil_Moisture', 'value': 62.2, 'location': 'GH_2'}\", headers=[], checksum=None, serialized_key_size=-1, serialized_value_size=131, serialized_header_size=-1)\n",
      "ConsumerRecord(topic='sensors_data', partition=0, leader_epoch=0, offset=85, timestamp=1753102833334, timestamp_type=0, key=None, value=b\"{'sensor_id': 'H_1', 'timestamp': '2025-07-21 13:00:33.334118', 'sensor_type': 'Humidity', 'value': 88.7, 'location': 'GH_1'}\", headers=[], checksum=None, serialized_key_size=-1, serialized_value_size=125, serialized_header_size=-1)\n",
      "ConsumerRecord(topic='sensors_data', partition=0, leader_epoch=0, offset=86, timestamp=1753102836335, timestamp_type=0, key=None, value=b\"{'sensor_id': 'CO2_1', 'timestamp': '2025-07-21 13:00:36.335082', 'sensor_type': 'CO2', 'value': 489, 'location': 'GH_1'}\", headers=[], checksum=None, serialized_key_size=-1, serialized_value_size=121, serialized_header_size=-1)\n",
      "ConsumerRecord(topic='sensors_data', partition=0, leader_epoch=0, offset=87, timestamp=1753102839336, timestamp_type=0, key=None, value=b\"{'sensor_id': 'PH_3', 'timestamp': '2025-07-21 13:00:39.336059', 'sensor_type': 'Soil_pH', 'value': 6.2, 'location': 'GH_3'}\", headers=[], checksum=None, serialized_key_size=-1, serialized_value_size=124, serialized_header_size=-1)\n",
      "ConsumerRecord(topic='sensors_data', partition=0, leader_epoch=0, offset=88, timestamp=1753102842337, timestamp_type=0, key=None, value=b\"{'sensor_id': 'L_3', 'timestamp': '2025-07-21 13:00:42.337194', 'sensor_type': 'Light', 'value': 1263, 'location': 'GH_3'}\", headers=[], checksum=None, serialized_key_size=-1, serialized_value_size=122, serialized_header_size=-1)\n",
      "ConsumerRecord(topic='sensors_data', partition=0, leader_epoch=0, offset=89, timestamp=1753102845338, timestamp_type=0, key=None, value=b\"{'sensor_id': 'L_3', 'timestamp': '2025-07-21 13:00:45.338502', 'sensor_type': 'Light', 'value': 1204, 'location': 'GH_3'}\", headers=[], checksum=None, serialized_key_size=-1, serialized_value_size=122, serialized_header_size=-1)\n",
      "ConsumerRecord(topic='sensors_data', partition=0, leader_epoch=0, offset=90, timestamp=1753102848339, timestamp_type=0, key=None, value=b\"{'sensor_id': 'L_1', 'timestamp': '2025-07-21 13:00:48.339128', 'sensor_type': 'Light', 'value': 1276, 'location': 'GH_1'}\", headers=[], checksum=None, serialized_key_size=-1, serialized_value_size=122, serialized_header_size=-1)\n",
      "ConsumerRecord(topic='sensors_data', partition=0, leader_epoch=0, offset=91, timestamp=1753102851340, timestamp_type=0, key=None, value=b\"{'sensor_id': 'SM_1', 'timestamp': '2025-07-21 13:00:51.339965', 'sensor_type': 'Soil_Moisture', 'value': 79.6, 'location': 'GH_1'}\", headers=[], checksum=None, serialized_key_size=-1, serialized_value_size=131, serialized_header_size=-1)\n",
      "ConsumerRecord(topic='sensors_data', partition=0, leader_epoch=0, offset=92, timestamp=1753102854341, timestamp_type=0, key=None, value=b\"{'sensor_id': 'T_2', 'timestamp': '2025-07-21 13:00:54.341071', 'sensor_type': 'Temperature', 'value': 36.91, 'location': 'GH_2'}\", headers=[], checksum=None, serialized_key_size=-1, serialized_value_size=129, serialized_header_size=-1)\n",
      "ConsumerRecord(topic='sensors_data', partition=0, leader_epoch=0, offset=93, timestamp=1753102857341, timestamp_type=0, key=None, value=b\"{'sensor_id': 'PH_2', 'timestamp': '2025-07-21 13:00:57.341653', 'sensor_type': 'Soil_pH', 'value': 6.4, 'location': 'GH_2'}\", headers=[], checksum=None, serialized_key_size=-1, serialized_value_size=124, serialized_header_size=-1)\n",
      "ConsumerRecord(topic='sensors_data', partition=0, leader_epoch=0, offset=94, timestamp=1753102860342, timestamp_type=0, key=None, value=b\"{'sensor_id': 'T_2', 'timestamp': '2025-07-21 13:01:00.342445', 'sensor_type': 'Temperature', 'value': 32.89, 'location': 'GH_2'}\", headers=[], checksum=None, serialized_key_size=-1, serialized_value_size=129, serialized_header_size=-1)\n",
      "ConsumerRecord(topic='sensors_data', partition=0, leader_epoch=0, offset=95, timestamp=1753102863341, timestamp_type=0, key=None, value=b\"{'sensor_id': 'CO2_1', 'timestamp': '2025-07-21 13:01:03.341374', 'sensor_type': 'CO2', 'value': 1497, 'location': 'GH_1'}\", headers=[], checksum=None, serialized_key_size=-1, serialized_value_size=122, serialized_header_size=-1)\n",
      "ConsumerRecord(topic='sensors_data', partition=0, leader_epoch=0, offset=96, timestamp=1753102866342, timestamp_type=0, key=None, value=b\"{'sensor_id': 'PH_3', 'timestamp': '2025-07-21 13:01:06.341940', 'sensor_type': 'Soil_pH', 'value': 9.2, 'location': 'GH_3'}\", headers=[], checksum=None, serialized_key_size=-1, serialized_value_size=124, serialized_header_size=-1)\n",
      "ConsumerRecord(topic='sensors_data', partition=0, leader_epoch=0, offset=97, timestamp=1753102869342, timestamp_type=0, key=None, value=b\"{'sensor_id': 'CO2_3', 'timestamp': '2025-07-21 13:01:09.342511', 'sensor_type': 'CO2', 'value': 1487, 'location': 'GH_3'}\", headers=[], checksum=None, serialized_key_size=-1, serialized_value_size=122, serialized_header_size=-1)\n",
      "ConsumerRecord(topic='sensors_data', partition=0, leader_epoch=0, offset=98, timestamp=1753102872343, timestamp_type=0, key=None, value=b\"{'sensor_id': 'CO2_1', 'timestamp': '2025-07-21 13:01:12.343711', 'sensor_type': 'CO2', 'value': 1155, 'location': 'GH_1'}\", headers=[], checksum=None, serialized_key_size=-1, serialized_value_size=122, serialized_header_size=-1)\n",
      "ConsumerRecord(topic='sensors_data', partition=0, leader_epoch=0, offset=99, timestamp=1753102875344, timestamp_type=0, key=None, value=b\"{'sensor_id': 'SM_1', 'timestamp': '2025-07-21 13:01:15.344407', 'sensor_type': 'Soil_Moisture', 'value': 66.7, 'location': 'GH_1'}\", headers=[], checksum=None, serialized_key_size=-1, serialized_value_size=131, serialized_header_size=-1)\n",
      "ConsumerRecord(topic='sensors_data', partition=0, leader_epoch=0, offset=100, timestamp=1753102878345, timestamp_type=0, key=None, value=b\"{'sensor_id': 'L_1', 'timestamp': '2025-07-21 13:01:18.345142', 'sensor_type': 'Light', 'value': 1219, 'location': 'GH_1'}\", headers=[], checksum=None, serialized_key_size=-1, serialized_value_size=122, serialized_header_size=-1)\n",
      "ConsumerRecord(topic='sensors_data', partition=0, leader_epoch=0, offset=101, timestamp=1753102881345, timestamp_type=0, key=None, value=b\"{'sensor_id': 'PH_2', 'timestamp': '2025-07-21 13:01:21.345793', 'sensor_type': 'Soil_pH', 'value': 9.7, 'location': 'GH_2'}\", headers=[], checksum=None, serialized_key_size=-1, serialized_value_size=124, serialized_header_size=-1)\n",
      "ConsumerRecord(topic='sensors_data', partition=0, leader_epoch=0, offset=102, timestamp=1753102884346, timestamp_type=0, key=None, value=b\"{'sensor_id': 'CO2_3', 'timestamp': '2025-07-21 13:01:24.346269', 'sensor_type': 'CO2', 'value': 1112, 'location': 'GH_3'}\", headers=[], checksum=None, serialized_key_size=-1, serialized_value_size=122, serialized_header_size=-1)\n",
      "ConsumerRecord(topic='sensors_data', partition=0, leader_epoch=0, offset=103, timestamp=1753102887347, timestamp_type=0, key=None, value=b\"{'sensor_id': 'PH_1', 'timestamp': '2025-07-21 13:01:27.346857', 'sensor_type': 'Soil_pH', 'value': 5.8, 'location': 'GH_1'}\", headers=[], checksum=None, serialized_key_size=-1, serialized_value_size=124, serialized_header_size=-1)\n",
      "ConsumerRecord(topic='sensors_data', partition=0, leader_epoch=0, offset=104, timestamp=1753102890347, timestamp_type=0, key=None, value=b\"{'sensor_id': 'SM_1', 'timestamp': '2025-07-21 13:01:30.347642', 'sensor_type': 'Soil_Moisture', 'value': 90.9, 'location': 'GH_1'}\", headers=[], checksum=None, serialized_key_size=-1, serialized_value_size=131, serialized_header_size=-1)\n",
      "ConsumerRecord(topic='sensors_data', partition=0, leader_epoch=0, offset=105, timestamp=1753102893346, timestamp_type=0, key=None, value=b\"{'sensor_id': 'CO2_3', 'timestamp': '2025-07-21 13:01:33.346499', 'sensor_type': 'CO2', 'value': 1450, 'location': 'GH_3'}\", headers=[], checksum=None, serialized_key_size=-1, serialized_value_size=122, serialized_header_size=-1)\n",
      "ConsumerRecord(topic='sensors_data', partition=0, leader_epoch=0, offset=106, timestamp=1753102896347, timestamp_type=0, key=None, value=b\"{'sensor_id': 'H_1', 'timestamp': '2025-07-21 13:01:36.347244', 'sensor_type': 'Humidity', 'value': 89.2, 'location': 'GH_1'}\", headers=[], checksum=None, serialized_key_size=-1, serialized_value_size=125, serialized_header_size=-1)\n",
      "ConsumerRecord(topic='sensors_data', partition=0, leader_epoch=0, offset=107, timestamp=1753102899348, timestamp_type=0, key=None, value=b\"{'sensor_id': 'SM_2', 'timestamp': '2025-07-21 13:01:39.348018', 'sensor_type': 'Soil_Moisture', 'value': 65.3, 'location': 'GH_2'}\", headers=[], checksum=None, serialized_key_size=-1, serialized_value_size=131, serialized_header_size=-1)\n",
      "ConsumerRecord(topic='sensors_data', partition=0, leader_epoch=0, offset=108, timestamp=1753102902348, timestamp_type=0, key=None, value=b\"{'sensor_id': 'CO2_1', 'timestamp': '2025-07-21 13:01:42.348514', 'sensor_type': 'CO2', 'value': 1675, 'location': 'GH_1'}\", headers=[], checksum=None, serialized_key_size=-1, serialized_value_size=122, serialized_header_size=-1)\n",
      "ConsumerRecord(topic='sensors_data', partition=0, leader_epoch=0, offset=109, timestamp=1753102905349, timestamp_type=0, key=None, value=b\"{'sensor_id': 'T_1', 'timestamp': '2025-07-21 13:01:45.349476', 'sensor_type': 'Temperature', 'value': 20.51, 'location': 'GH_1'}\", headers=[], checksum=None, serialized_key_size=-1, serialized_value_size=129, serialized_header_size=-1)\n",
      "ConsumerRecord(topic='sensors_data', partition=0, leader_epoch=0, offset=110, timestamp=1753102908350, timestamp_type=0, key=None, value=b\"{'sensor_id': 'T_3', 'timestamp': '2025-07-21 13:01:48.350357', 'sensor_type': 'Temperature', 'value': 25.39, 'location': 'GH_3'}\", headers=[], checksum=None, serialized_key_size=-1, serialized_value_size=129, serialized_header_size=-1)\n",
      "ConsumerRecord(topic='sensors_data', partition=0, leader_epoch=0, offset=111, timestamp=1753102911350, timestamp_type=0, key=None, value=b\"{'sensor_id': 'PH_2', 'timestamp': '2025-07-21 13:01:51.350879', 'sensor_type': 'Soil_pH', 'value': 6.5, 'location': 'GH_2'}\", headers=[], checksum=None, serialized_key_size=-1, serialized_value_size=124, serialized_header_size=-1)\n",
      "ConsumerRecord(topic='sensors_data', partition=0, leader_epoch=0, offset=112, timestamp=1753102914351, timestamp_type=0, key=None, value=b\"{'sensor_id': 'H_1', 'timestamp': '2025-07-21 13:01:54.351556', 'sensor_type': 'Humidity', 'value': 96.0, 'location': 'GH_1'}\", headers=[], checksum=None, serialized_key_size=-1, serialized_value_size=125, serialized_header_size=-1)\n",
      "ConsumerRecord(topic='sensors_data', partition=0, leader_epoch=0, offset=113, timestamp=1753102917352, timestamp_type=0, key=None, value=b\"{'sensor_id': 'SM_3', 'timestamp': '2025-07-21 13:01:57.352161', 'sensor_type': 'Soil_Moisture', 'value': 79.8, 'location': 'GH_3'}\", headers=[], checksum=None, serialized_key_size=-1, serialized_value_size=131, serialized_header_size=-1)\n",
      "ConsumerRecord(topic='sensors_data', partition=0, leader_epoch=0, offset=114, timestamp=1753102920353, timestamp_type=0, key=None, value=b\"{'sensor_id': 'PH_2', 'timestamp': '2025-07-21 13:02:00.353607', 'sensor_type': 'Soil_pH', 'value': 3.3, 'location': 'GH_2'}\", headers=[], checksum=None, serialized_key_size=-1, serialized_value_size=124, serialized_header_size=-1)\n",
      "ConsumerRecord(topic='sensors_data', partition=0, leader_epoch=0, offset=115, timestamp=1753102923353, timestamp_type=0, key=None, value=b\"{'sensor_id': 'H_2', 'timestamp': '2025-07-21 13:02:03.353500', 'sensor_type': 'Humidity', 'value': 36.8, 'location': 'GH_2'}\", headers=[], checksum=None, serialized_key_size=-1, serialized_value_size=125, serialized_header_size=-1)\n",
      "ConsumerRecord(topic='sensors_data', partition=0, leader_epoch=0, offset=116, timestamp=1753102926354, timestamp_type=0, key=None, value=b\"{'sensor_id': 'L_2', 'timestamp': '2025-07-21 13:02:06.353915', 'sensor_type': 'Light', 'value': 1393, 'location': 'GH_2'}\", headers=[], checksum=None, serialized_key_size=-1, serialized_value_size=122, serialized_header_size=-1)\n",
      "ConsumerRecord(topic='sensors_data', partition=0, leader_epoch=0, offset=117, timestamp=1753102929354, timestamp_type=0, key=None, value=b\"{'sensor_id': 'H_2', 'timestamp': '2025-07-21 13:02:09.354440', 'sensor_type': 'Humidity', 'value': 74.9, 'location': 'GH_2'}\", headers=[], checksum=None, serialized_key_size=-1, serialized_value_size=125, serialized_header_size=-1)\n",
      "ConsumerRecord(topic='sensors_data', partition=0, leader_epoch=0, offset=118, timestamp=1753102932355, timestamp_type=0, key=None, value=b\"{'sensor_id': 'PH_3', 'timestamp': '2025-07-21 13:02:12.355540', 'sensor_type': 'Soil_pH', 'value': 5.5, 'location': 'GH_3'}\", headers=[], checksum=None, serialized_key_size=-1, serialized_value_size=124, serialized_header_size=-1)\n",
      "ConsumerRecord(topic='sensors_data', partition=0, leader_epoch=0, offset=119, timestamp=1753102935356, timestamp_type=0, key=None, value=b\"{'sensor_id': 'H_3', 'timestamp': '2025-07-21 13:02:15.356308', 'sensor_type': 'Humidity', 'value': 56.3, 'location': 'GH_3'}\", headers=[], checksum=None, serialized_key_size=-1, serialized_value_size=125, serialized_header_size=-1)\n",
      "ConsumerRecord(topic='sensors_data', partition=0, leader_epoch=0, offset=120, timestamp=1753102938356, timestamp_type=0, key=None, value=b\"{'sensor_id': 'SM_1', 'timestamp': '2025-07-21 13:02:18.356816', 'sensor_type': 'Soil_Moisture', 'value': 97.7, 'location': 'GH_1'}\", headers=[], checksum=None, serialized_key_size=-1, serialized_value_size=131, serialized_header_size=-1)\n",
      "ConsumerRecord(topic='sensors_data', partition=0, leader_epoch=0, offset=121, timestamp=1753102941357, timestamp_type=0, key=None, value=b\"{'sensor_id': 'PH_2', 'timestamp': '2025-07-21 13:02:21.357460', 'sensor_type': 'Soil_pH', 'value': 8.9, 'location': 'GH_2'}\", headers=[], checksum=None, serialized_key_size=-1, serialized_value_size=124, serialized_header_size=-1)\n",
      "ConsumerRecord(topic='sensors_data', partition=0, leader_epoch=0, offset=122, timestamp=1753102944358, timestamp_type=0, key=None, value=b\"{'sensor_id': 'PH_1', 'timestamp': '2025-07-21 13:02:24.358150', 'sensor_type': 'Soil_pH', 'value': 3.1, 'location': 'GH_1'}\", headers=[], checksum=None, serialized_key_size=-1, serialized_value_size=124, serialized_header_size=-1)\n",
      "ConsumerRecord(topic='sensors_data', partition=0, leader_epoch=0, offset=123, timestamp=1753102947359, timestamp_type=0, key=None, value=b\"{'sensor_id': 'T_2', 'timestamp': '2025-07-21 13:02:27.358918', 'sensor_type': 'Temperature', 'value': 40.7, 'location': 'GH_2'}\", headers=[], checksum=None, serialized_key_size=-1, serialized_value_size=128, serialized_header_size=-1)\n"
     ]
    }
   ],
   "source": [
    "try: \n",
    "    for msg in consumer:\n",
    "        # Extract and decode information from kafka consumer \n",
    "        message_str = msg.value.decode(\"utf-8\")\n",
    "        message = ast.literal_eval(message_str)\n",
    "        insert_into_time_dimension(message[\"timestamp\"], cur=cur, conn=conn) # type: ignore\n",
    "        insert_into_sensor_dimension(message[\"sensor_id\"], cur=cur, conn=conn) # type: ignore\n",
    "        insert_into_location_dimension(message[\"location\"],conn=conn,cur=cur) # type: ignore\n",
    "        insert_into_sensor_measurements(message=message,conn=conn,cur=cur) # type: ignore\n",
    "        print(msg)\n",
    "except KeyboardInterrupt:\n",
    "    conn.close()\n",
    "    pass"
   ]
  },
  {
   "cell_type": "code",
   "execution_count": null,
   "id": "82b58b06",
   "metadata": {},
   "outputs": [],
   "source": []
  }
 ],
 "metadata": {
  "kernelspec": {
   "display_name": "Python 3 (ipykernel)",
   "language": "python",
   "name": "python3"
  },
  "language_info": {
   "codemirror_mode": {
    "name": "ipython",
    "version": 3
   },
   "file_extension": ".py",
   "mimetype": "text/x-python",
   "name": "python",
   "nbconvert_exporter": "python",
   "pygments_lexer": "ipython3",
   "version": "3.11.6"
  }
 },
 "nbformat": 4,
 "nbformat_minor": 5
}
